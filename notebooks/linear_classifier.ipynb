{
 "cells": [
  {
   "cell_type": "markdown",
   "id": "6a1aa070",
   "metadata": {},
   "source": [
    "# Linear classifier"
   ]
  },
  {
   "cell_type": "code",
   "execution_count": 1,
   "id": "8da05199",
   "metadata": {},
   "outputs": [],
   "source": [
    "import numpy as np\n",
    "import random\n",
    "import matplotlib.pyplot as plt"
   ]
  },
  {
   "cell_type": "code",
   "execution_count": 14,
   "id": "677bd272",
   "metadata": {},
   "outputs": [],
   "source": [
    "def linear_classifier(x, w, b):\n",
    "    if (np.dot(x, w) + b) > 0:\n",
    "        return 1\n",
    "    else:\n",
    "        return 0"
   ]
  },
  {
   "cell_type": "code",
   "execution_count": 3,
   "id": "5c6c38cc",
   "metadata": {},
   "outputs": [],
   "source": [
    "D = [(random.choices(range(10), k=2), random.randint(0, 1)) for i in range(20)]"
   ]
  },
  {
   "cell_type": "code",
   "execution_count": 92,
   "id": "f4abbee0",
   "metadata": {},
   "outputs": [],
   "source": [
    "D = [\n",
    "    ([1, 6], 0),\n",
    "    ([2, 5], 0),\n",
    "    ([3, 7], 0),\n",
    "    ([4, 3], 1),\n",
    "    ([5, 1], 1),\n",
    "    ([6, 2], 1),\n",
    "]"
   ]
  },
  {
   "cell_type": "code",
   "execution_count": 102,
   "id": "3fda0455",
   "metadata": {},
   "outputs": [],
   "source": [
    "w = [1, 1]\n",
    "b = 0"
   ]
  },
  {
   "cell_type": "code",
   "execution_count": 38,
   "id": "3ccd7852",
   "metadata": {},
   "outputs": [],
   "source": [
    "def line(x_1, x_2, w, b):\n",
    "    \n",
    "    y_1 = (-1 * w[0] / w[1]) * x_1 - (b / w[1])\n",
    "    y_2 = (-1 * w[0] / w[1]) * x_2 - (b / w[1])\n",
    "    \n",
    "    # y_1 = (-1 * ((x_1 * w[0]) + b)) / w[1]\n",
    "    # y_2 = (-1 * ((x_2 * w[0]) + b)) / w[1]\n",
    "    \n",
    "    return (y_1, y_2)"
   ]
  },
  {
   "cell_type": "code",
   "execution_count": 6,
   "id": "d1d04124",
   "metadata": {},
   "outputs": [],
   "source": [
    "def plot(D, w, b):\n",
    "    \n",
    "    plt.plot([d[0][0] for d in D if d[1] == 1], \n",
    "             [d[0][1] for d in D if d[1] == 1], marker='x', linestyle='', color='k')\n",
    "    \n",
    "    plt.plot([d[0][0] for d in D if d[1] == 0], \n",
    "             [d[0][1] for d in D if d[1] == 0], marker='o', linestyle='', color='k')\n",
    "    \n",
    "    plt.plot([0, 9], line(0, 9, w, b))\n",
    "    \n",
    "    plt.show()"
   ]
  },
  {
   "cell_type": "code",
   "execution_count": 7,
   "id": "f8fab2c6",
   "metadata": {},
   "outputs": [],
   "source": [
    "# Validation of the linear classifier\n",
    "\n",
    "def error(D, w, b):\n",
    "    error_count = 0\n",
    "    for d in D:\n",
    "        if linear_classifier(d[0], w, b) != d[1]:\n",
    "            error_count += 1\n",
    "    return error_count / len(D)"
   ]
  },
  {
   "cell_type": "code",
   "execution_count": 8,
   "id": "e2fdb0fd",
   "metadata": {},
   "outputs": [],
   "source": [
    "def random_lin_class(D, k):\n",
    "    W = [random.choices(np.linspace(-5, 5), k=2) for i in range(k)]\n",
    "    B = [random.uniform(-5, 5) for i in range(k)]\n",
    "    E = [error(D, W[i], B[i]) for i in range(k)]\n",
    "    i = np.argmin(E)\n",
    "    return (W[i], B[i])"
   ]
  },
  {
   "cell_type": "code",
   "execution_count": 94,
   "id": "e2b29d02",
   "metadata": {},
   "outputs": [],
   "source": [
    "def perceptron(D, w, b, k=10):\n",
    "    for h in range(k):\n",
    "        for d in D:\n",
    "            x = d[0]\n",
    "            y = d[1]\n",
    "            y_0 = linear_classifier(x, w, b)\n",
    "            \n",
    "            # update\n",
    "            w = np.add(w, np.multiply(x, y - y_0))\n",
    "            b = b + (y - y_0)\n",
    "            \n",
    "    return (w, b)"
   ]
  },
  {
   "cell_type": "code",
   "execution_count": 41,
   "id": "dfd4f55c",
   "metadata": {},
   "outputs": [],
   "source": [
    "# Validation of the linear classifier algorithm\n",
    "\n",
    "def cross_validate(D, k):\n",
    "    pass"
   ]
  },
  {
   "cell_type": "code",
   "execution_count": 95,
   "id": "cf0d3079",
   "metadata": {},
   "outputs": [
    {
     "name": "stdout",
     "output_type": "stream",
     "text": [
      "[1, 1] 0\n"
     ]
    }
   ],
   "source": [
    "print(w, b)"
   ]
  },
  {
   "cell_type": "code",
   "execution_count": 96,
   "id": "ddfedf3b",
   "metadata": {},
   "outputs": [
    {
     "data": {
      "text/plain": [
       "0.5"
      ]
     },
     "execution_count": 96,
     "metadata": {},
     "output_type": "execute_result"
    }
   ],
   "source": [
    "error(D, w, b)"
   ]
  },
  {
   "cell_type": "code",
   "execution_count": 97,
   "id": "eca26d98",
   "metadata": {},
   "outputs": [
    {
     "data": {
      "image/png": "[encoded data removed]",
      "text/plain": [
       "<Figure size 640x480 with 1 Axes>"
      ]
     },
     "metadata": {},
     "output_type": "display_data"
    }
   ],
   "source": [
    "plot(D, w, b)"
   ]
  },
  {
   "cell_type": "code",
   "execution_count": 98,
   "id": "6781b2c0",
   "metadata": {},
   "outputs": [],
   "source": [
    "w, b = random_lin_class(D, 100)"
   ]
  },
  {
   "cell_type": "code",
   "execution_count": 99,
   "id": "0e73ad5c",
   "metadata": {},
   "outputs": [
    {
     "name": "stdout",
     "output_type": "stream",
     "text": [
      "[2.959183673469388, -3.36734693877551] 1.2240832176172853\n"
     ]
    }
   ],
   "source": [
    "print(w, b)"
   ]
  },
  {
   "cell_type": "code",
   "execution_count": 100,
   "id": "e858fdd5",
   "metadata": {},
   "outputs": [
    {
     "data": {
      "text/plain": [
       "0.0"
      ]
     },
     "execution_count": 100,
     "metadata": {},
     "output_type": "execute_result"
    }
   ],
   "source": [
    "error(D, w, b)"
   ]
  },
  {
   "cell_type": "code",
   "execution_count": 101,
   "id": "4249bd51",
   "metadata": {},
   "outputs": [
    {
     "data": {
      "image/png": "[encoded data removed]",
      "text/plain": [
       "<Figure size 640x480 with 1 Axes>"
      ]
     },
     "metadata": {},
     "output_type": "display_data"
    }
   ],
   "source": [
    "plot(D, w, b)"
   ]
  },
  {
   "cell_type": "code",
   "execution_count": 103,
   "id": "2f0c921c",
   "metadata": {},
   "outputs": [],
   "source": [
    "w, b = perceptron(D, w, b, 100)"
   ]
  },
  {
   "cell_type": "code",
   "execution_count": 104,
   "id": "edf31834",
   "metadata": {},
   "outputs": [
    {
     "name": "stdout",
     "output_type": "stream",
     "text": [
      "[ 4 -2] 0\n"
     ]
    }
   ],
   "source": [
    "print(w, b)"
   ]
  },
  {
   "cell_type": "code",
   "execution_count": 105,
   "id": "4b7ede5b",
   "metadata": {},
   "outputs": [
    {
     "data": {
      "text/plain": [
       "0.0"
      ]
     },
     "execution_count": 105,
     "metadata": {},
     "output_type": "execute_result"
    }
   ],
   "source": [
    "error(D, w, b)"
   ]
  },
  {
   "cell_type": "code",
   "execution_count": 106,
   "id": "9220c2f5",
   "metadata": {},
   "outputs": [
    {
     "data": {
      "image/png": "[encoded data removed]",
      "text/plain": [
       "<Figure size 640x480 with 1 Axes>"
      ]
     },
     "metadata": {},
     "output_type": "display_data"
    }
   ],
   "source": [
    "plot(D, w, b)"
   ]
  }
 ],
 "metadata": {
  "kernelspec": {
   "display_name": "Python 3 (ipykernel)",
   "language": "python",
   "name": "python3"
  },
  "language_info": {
   "codemirror_mode": {
    "name": "ipython",
    "version": 3
   },
   "file_extension": ".py",
   "mimetype": "text/x-python",
   "name": "python",
   "nbconvert_exporter": "python",
   "pygments_lexer": "ipython3",
   "version": "3.11.6"
  }
 },
 "nbformat": 4,
 "nbformat_minor": 5
}
