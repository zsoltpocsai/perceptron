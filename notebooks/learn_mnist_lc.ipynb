{
 "cells": [
  {
   "cell_type": "markdown",
   "id": "1cdc37e0",
   "metadata": {},
   "source": [
    "# Learning hand written numbers"
   ]
  },
  {
   "cell_type": "code",
   "execution_count": 1,
   "id": "ea473e22",
   "metadata": {},
   "outputs": [],
   "source": [
    "import sys\n",
    "import numpy as np\n",
    "import matplotlib.pyplot as plt\n",
    "sys.path.append('../')\n",
    "import train, data, linclass"
   ]
  },
  {
   "cell_type": "code",
   "execution_count": 2,
   "id": "fc7062f7",
   "metadata": {},
   "outputs": [
    {
     "name": "stdout",
     "output_type": "stream",
     "text": [
      "Loading images from '/home/zsolt/Projects/perceptron/notebooks/../mnist-files/mnist_train_images.gz'...\n",
      "Loading labels from '/home/zsolt/Projects/perceptron/notebooks/../mnist-files/mnist_train_labels.gz'...\n",
      "Loading images from '/home/zsolt/Projects/perceptron/notebooks/../mnist-files/mnist_test_images.gz'...\n",
      "Loading labels from '/home/zsolt/Projects/perceptron/notebooks/../mnist-files/mnist_test_labels.gz'...\n"
     ]
    }
   ],
   "source": [
    "mnist = data.load_mnist('../mnist-files')"
   ]
  },
  {
   "cell_type": "markdown",
   "id": "3a71771a",
   "metadata": {},
   "source": [
    "## Creating a training set\n",
    "\n",
    "We will look for a binary classifier so we need to create two classes. I will have all the digit '1' as *class 1* and all the others as *class 0*"
   ]
  },
  {
   "cell_type": "code",
   "execution_count": 3,
   "id": "a3012f46",
   "metadata": {},
   "outputs": [],
   "source": [
    "X = mnist['train']['images'][:500]\n",
    "Y = mnist['train']['labels'][:500]"
   ]
  },
  {
   "cell_type": "code",
   "execution_count": 4,
   "id": "f1543a04",
   "metadata": {},
   "outputs": [],
   "source": [
    "def plot_images(images, labels):  \n",
    "    fig, axes = plt.subplots(3, 3)\n",
    "\n",
    "    for i in range(len(axes)):\n",
    "        for j in range(len(axes[i])):\n",
    "            \n",
    "            axes[i][j].set_title( labels[ i * 3 + j ].__str__())\n",
    "            axes[i][j].imshow(    images[ i * 3 + j ])\n",
    "\n",
    "    plt.tight_layout()"
   ]
  },
  {
   "cell_type": "code",
   "execution_count": 5,
   "id": "adc1a351",
   "metadata": {},
   "outputs": [],
   "source": [
    "def conv_label(y):\n",
    "    if y == 1:\n",
    "        return 1\n",
    "    else:\n",
    "        return 0\n",
    "\n",
    "Y = list(map(conv_label, Y))"
   ]
  },
  {
   "cell_type": "code",
   "execution_count": 6,
   "id": "7b4bc709",
   "metadata": {},
   "outputs": [
    {
     "data": {
      "image/png": "[encoded data removed]",
      "text/plain": [
       "<Figure size 640x480 with 9 Axes>"
      ]
     },
     "metadata": {},
     "output_type": "display_data"
    }
   ],
   "source": [
    "plot_images(X, Y)"
   ]
  },
  {
   "cell_type": "code",
   "execution_count": 7,
   "id": "4c0395ea",
   "metadata": {},
   "outputs": [
    {
     "name": "stdout",
     "output_type": "stream",
     "text": [
      "The number of samples of '1': 66\n"
     ]
    }
   ],
   "source": [
    "print(f\"The number of samples of '1': {len(list(filter(lambda y: y == 1, Y)))}\")"
   ]
  },
  {
   "cell_type": "markdown",
   "id": "b8ff8140",
   "metadata": {},
   "source": [
    "## Learning a linear classifier using the perceptron algorithm"
   ]
  },
  {
   "cell_type": "code",
   "execution_count": 8,
   "id": "15b44d81",
   "metadata": {},
   "outputs": [
    {
     "name": "stdout",
     "output_type": "stream",
     "text": [
      "Number of inputs necessary: 784\n"
     ]
    }
   ],
   "source": [
    "print(f\"Number of inputs necessary: {X[0].size}\")"
   ]
  },
  {
   "cell_type": "code",
   "execution_count": 9,
   "id": "e10082a5",
   "metadata": {},
   "outputs": [],
   "source": [
    "lc = linclass.LinearBinaryClassifier(784, shape=(28, 28))"
   ]
  },
  {
   "cell_type": "code",
   "execution_count": 10,
   "id": "c3aa4ff7",
   "metadata": {},
   "outputs": [],
   "source": [
    "data = { 'x': X, 'y': Y}"
   ]
  },
  {
   "cell_type": "code",
   "execution_count": 11,
   "id": "2584e03d",
   "metadata": {},
   "outputs": [
    {
     "name": "stdout",
     "output_type": "stream",
     "text": [
      "Error before training: 0.132\n"
     ]
    }
   ],
   "source": [
    "print(f\"Error before training: {lc.eval(data)}\")\n"
   ]
  },
  {
   "cell_type": "code",
   "execution_count": 12,
   "id": "371d3fd6",
   "metadata": {},
   "outputs": [
    {
     "name": "stdout",
     "output_type": "stream",
     "text": [
      "Training...\n",
      "  1. epoch -- err: 0.244\n",
      "  2. epoch -- err: 0.268\n",
      "  3. epoch -- err: 0.256\n",
      "  4. epoch -- err: 0.252\n",
      "  5. epoch -- err: 0.246\n",
      "  6. epoch -- err: 0.24\n",
      "  7. epoch -- err: 0.242\n",
      "  8. epoch -- err: 0.244\n",
      "  9. epoch -- err: 0.244\n",
      " 10. epoch -- err: 0.246\n"
     ]
    }
   ],
   "source": [
    "print(\"Training...\")\n",
    "for i in range(10):\n",
    "    train.perceptron(lc, data)\n",
    "    print(f\"{i + 1:3}. epoch -- err: {lc.eval(data)}\")"
   ]
  },
  {
   "cell_type": "markdown",
   "id": "a516d8dc",
   "metadata": {},
   "source": [
    "## Conclusion\n",
    "\n",
    "The error does not converge to 0. This kind of data probably can't be linearly separated"
   ]
  }
 ],
 "metadata": {
  "kernelspec": {
   "display_name": "Python 3 (ipykernel)",
   "language": "python",
   "name": "python3"
  },
  "language_info": {
   "codemirror_mode": {
    "name": "ipython",
    "version": 3
   },
   "file_extension": ".py",
   "mimetype": "text/x-python",
   "name": "python",
   "nbconvert_exporter": "python",
   "pygments_lexer": "ipython3",
   "version": "3.11.6"
  }
 },
 "nbformat": 4,
 "nbformat_minor": 5
}
